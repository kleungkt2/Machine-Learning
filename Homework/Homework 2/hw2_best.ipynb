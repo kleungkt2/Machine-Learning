{
  "nbformat": 4,
  "nbformat_minor": 0,
  "metadata": {
    "colab": {
      "name": "Copy of Copy of ML_HW2_logistic.ipynb",
      "provenance": [],
      "collapsed_sections": []
    },
    "kernelspec": {
      "name": "python3",
      "display_name": "Python 3"
    }
  },
  "cells": [
    {
      "cell_type": "markdown",
      "metadata": {
        "id": "AeZtEkZdNMGg"
      },
      "source": [
        "## ML HW2 best model\n",
        "\n",
        "### Pytorch.nn\n",
        "\n"
      ]
    },
    {
      "cell_type": "code",
      "metadata": {
        "id": "lMOeb2gcNWdB"
      },
      "source": [
        "import numpy as np\n",
        "import pandas as pd\n",
        "\n",
        "import torch\n",
        "import torch.nn as nn\n",
        "import torch.optim as optim\n",
        "from torch.utils.data import Dataset, DataLoader\n",
        "\n",
        "from sklearn.preprocessing import StandardScaler    \n",
        "from sklearn.model_selection import train_test_split\n",
        "from sklearn.metrics import confusion_matrix, classification_report"
      ],
      "execution_count": 1,
      "outputs": []
    },
    {
      "cell_type": "markdown",
      "metadata": {
        "id": "mLvVaOeANqmH"
      },
      "source": [
        "We only use one-hot-encoding feature here"
      ]
    },
    {
      "cell_type": "code",
      "metadata": {
        "id": "U4uvD-jLNrWM"
      },
      "source": [
        "def load_data():\n",
        "    x_train = pd.read_csv('X_train')\n",
        "    x_test = pd.read_csv('X_test')\n",
        "\n",
        "    x_train = x_train.values\n",
        "    x_test = x_test.values\n",
        "\n",
        "    y_train = pd.read_csv('Y_train', header = None)\n",
        "    y_train = y_train.values\n",
        "    y_train = y_train.reshape(-1)\n",
        "\n",
        "    return x_train, y_train, x_test"
      ],
      "execution_count": null,
      "outputs": []
    },
    {
      "cell_type": "markdown",
      "metadata": {
        "id": "AiXhvsEgPgET"
      },
      "source": [
        "Use np.clip to prevent overflow"
      ]
    },
    {
      "cell_type": "code",
      "metadata": {
        "id": "EyRSayVjPk19"
      },
      "source": [
        "def sigmoid(z):\n",
        "    res = 1 / (1.0 + np.exp(-z))\n",
        "    return np.clip(res, 1e-6, 1-1e-6)"
      ],
      "execution_count": null,
      "outputs": []
    },
    {
      "cell_type": "markdown",
      "metadata": {
        "id": "JauhKOL8PoaP"
      },
      "source": [
        "Feature normalize, only on continues variable"
      ]
    },
    {
      "cell_type": "code",
      "metadata": {
        "id": "XvUJFu5gP1ac"
      },
      "source": [
        "def normalize(x_train, x_test):\n",
        "    \n",
        "    x_all = np.concatenate((x_train, x_test), axis = 0)\n",
        "    mean = np.mean(x_all, axis = 0)\n",
        "    std = np.std(x_all, axis = 0)\n",
        "\n",
        "    index = [0, 1, 3, 4, 5]\n",
        "    mean_vec = np.zeros(x_all.shape[1])\n",
        "    std_vec = np.ones(x_all.shape[1])\n",
        "    mean_vec[index] = mean[index]\n",
        "    std_vec[index] = std[index]\n",
        "\n",
        "    x_all_nor = (x_all - mean_vec) / std_vec\n",
        "\n",
        "    x_train_nor = x_all_nor[0:x_train.shape[0]]\n",
        "    x_test_nor = x_all_nor[x_train.shape[0]:]\n",
        "\n",
        "    return x_train_nor, x_test_nor"
      ],
      "execution_count": null,
      "outputs": []
    },
    {
      "cell_type": "code",
      "metadata": {
        "id": "yIfLy3jTFXcY"
      },
      "source": [
        "def standardize(x_train, x_test):\n",
        "  x_all = np.concatenate((x_train, x_test), axis = 0)\n",
        "  index = [0, 1, 3, 4, 5]\n",
        "  max_vec = np.ones(x_all.shape[1])\n",
        "  min_vec = np.zeros(x_all.shape[1])\n",
        "  minX = np.min(x_all, axis = 0)\n",
        "  maxX = np.max(x_all, axis = 0)\n",
        "  min_vec[index] = minX[index]\n",
        "  max_vec[index] = maxX[index]\n",
        "  x_all_stand = (x_all - min_vec) / (max_vec - min_vec)\n",
        "  x_train_stand = x_all_stand[0:x_train.shape[0]]\n",
        "  x_test_stand = x_all_stand[x_train.shape[0]:]\n",
        "  return x_train_stand, x_test_stand"
      ],
      "execution_count": null,
      "outputs": []
    },
    {
      "cell_type": "markdown",
      "metadata": {
        "id": "txYrOUqsQKCD"
      },
      "source": [
        "Gradient descent using adagrad"
      ]
    },
    {
      "cell_type": "code",
      "metadata": {
        "id": "uA3DI4BzQN6l"
      },
      "source": [
        "def train(x_train, y_train):\n",
        "    #this function takes too long to train, wrote another one\n",
        "    b = 0.0\n",
        "    w = np.zeros(x_train.shape[1])\n",
        "    lr = 0.01\n",
        "    epoch = 500\n",
        "    b_lr = 0\n",
        "    w_lr = np.ones(x_train.shape[1])\n",
        "    l2_reg = 0.001\n",
        "    b_sum = 0\n",
        "    w_sum = np.zeros(x_train.shape[1])\n",
        "    loss = 0\n",
        "    for e in range(epoch):\n",
        "        # TODO : try to implement gradient descent\n",
        "        b_epoch = 0\n",
        "        w_epoch = np.zeros(x_train.shape[1])\n",
        "        for i in range(x_train.shape[0]):\n",
        "          yhead = sigmoid(w.dot(x_train[i, :]) + b)\n",
        "          b_epoch += (-1) * (y_train[i] - yhead)\n",
        "          for j in range(x_train.shape[1]):\n",
        "            w_epoch[j] += (-1) * (y_train[i] - yhead) * x_train[i, j] + 2 * l2_reg * w[j]\n",
        "        b_epoch /= x_train.shape[0]\n",
        "        w_epoch /= x_train.shape[0]\n",
        "\n",
        "        b_sum += (b_epoch ** 2)\n",
        "        w_sum += (w_epoch ** 2)\n",
        "\n",
        "        b -= lr / b_sum ** 0.5 * b_epoch\n",
        "        w -= lr / w_sum ** 0.5 * w_epoch\n",
        "        print(\"epoch:{}\".format(e))\n",
        "        \n",
        "    return w, b"
      ],
      "execution_count": null,
      "outputs": []
    },
    {
      "cell_type": "code",
      "metadata": {
        "id": "sVM02f3QA9Zx"
      },
      "source": [
        "def train2(x_train, y_train):\n",
        "  w = np.zeros((x_train.shape[1]))\n",
        "  b = np.zeros(1)\n",
        "  epoch = 500\n",
        "  batch_size = 8\n",
        "  lr = 0.01\n",
        "  for i in range(int(len(x_train) / batch_size)):\n",
        "    X = x_train[batch_size * i:batch_size * (i + 1)]\n",
        "    Y = y_train[batch_size * i:batch_size * (i + 1)]\n",
        "    Yhead = sigmoid(np.dot(X, w) + b)\n",
        "    w_grad = (-1) * np.dot(np.transpose(X), (np.squeeze(Y) - Yhead).reshape((batch_size , 1)))\n",
        "    b_grad = np.mean((-1) * (np.squeeze(Y) - Yhead))\n",
        "\n",
        "    w -= lr * np.squeeze(w_grad)\n",
        "    b -= lr * np.squeeze(b_grad)\n",
        "  return w, b\n",
        "\n"
      ],
      "execution_count": null,
      "outputs": []
    },
    {
      "cell_type": "markdown",
      "metadata": {
        "id": "ClofrDqhQVU8"
      },
      "source": [
        ""
      ]
    },
    {
      "cell_type": "code",
      "metadata": {
        "id": "vCebWjDePwse"
      },
      "source": [
        "def validate(x,y,w,b,threshold):\n",
        "  result = np.zeros(x.shape[0])\n",
        "  acc = 0\n",
        "  loss = 0\n",
        "  for i in range(len(result)):\n",
        "    yhead = sigmoid(w.dot(x[i,:]) + b)\n",
        "    if yhead >= float(threshold)/100:\n",
        "      result[i] = 1\n",
        "    else:\n",
        "      result[i] = 0\n",
        "    if result[i] == y[i]:\n",
        "      acc += 1\n",
        "    loss += (-1) * y[i] * np.log(yhead) + (1-y[i]) * np.log(1-yhead)\n",
        "  return result, acc / len(result), loss"
      ],
      "execution_count": null,
      "outputs": []
    },
    {
      "cell_type": "code",
      "metadata": {
        "id": "zJKayKDyQ1mc"
      },
      "source": [
        "def predict(x,w,b,max_threshold):\n",
        "  dummy = np.zeros(x.shape[0])\n",
        "  x_pre, acc, loss = validate(x, dummy, w, b,max_threshold)\n",
        "  return x_pre"
      ],
      "execution_count": null,
      "outputs": []
    },
    {
      "cell_type": "code",
      "metadata": {
        "id": "45tuF_lJQVos"
      },
      "source": [
        "x_train, y_train, x_test = load_data()\n",
        "\n",
        "x_train, x_test = normalize(x_train, x_test)\n",
        "#x_train, x_test = standardize(x_train, x_test)\n",
        "split = int(x_train.shape[0] * 0.7)\n",
        "x_train_set, x_val_set = x_train[0:split, :], x_train[split:, :]\n",
        "y_train_set, y_val_set = y_train[0:split], y_train[split:]\n",
        "w, b = train2(x_train_set, y_train_set)\n",
        "\n",
        "\n",
        "\n"
      ],
      "execution_count": null,
      "outputs": []
    },
    {
      "cell_type": "code",
      "metadata": {
        "colab": {
          "base_uri": "https://localhost:8080/"
        },
        "id": "4L-CW4bf9cEA",
        "outputId": "0a715cf8-69c4-4ada-da8b-97da8c403b5d"
      },
      "source": [
        "#grid search to find the optimal threshold\n",
        "max_acc = 0\n",
        "max_threshold = 0\n",
        "for threshold in np.linspace(35,65,1000):\n",
        "  \n",
        "  y_val_head, acc, loss = validate(x_val_set, y_val_set, w, b, threshold)\n",
        "  if acc > max_acc:\n",
        "    max_acc = acc\n",
        "    max_threshold = threshold\n",
        "  print(\"threshold: {}, accuracy: {}\".format(threshold, acc))\n",
        "print(\"accuracy: {}, loss: {}\".format(acc,loss))\n",
        "print(max_threshold)\n",
        "y_test = predict(x_test, w, b, max_threshold)\n",
        "\n"
      ],
      "execution_count": null,
      "outputs": [
        {
          "output_type": "stream",
          "name": "stdout",
          "text": [
            "threshold: 35.0, accuracy: 0.834402007248397\n",
            "threshold: 35.030030030030034, accuracy: 0.834402007248397\n",
            "threshold: 35.06006006006006, accuracy: 0.8348201839977697\n",
            "threshold: 35.090090090090094, accuracy: 0.8348201839977697\n",
            "threshold: 35.12012012012012, accuracy: 0.8348201839977697\n",
            "threshold: 35.150150150150154, accuracy: 0.8349595762475607\n",
            "threshold: 35.18018018018018, accuracy: 0.8348201839977697\n",
            "threshold: 35.210210210210214, accuracy: 0.8348201839977697\n",
            "threshold: 35.24024024024024, accuracy: 0.8348201839977697\n",
            "threshold: 35.270270270270274, accuracy: 0.8348201839977697\n",
            "threshold: 35.3003003003003, accuracy: 0.8350989684973515\n",
            "threshold: 35.330330330330334, accuracy: 0.8349595762475607\n",
            "threshold: 35.36036036036036, accuracy: 0.8352383607471424\n",
            "threshold: 35.390390390390394, accuracy: 0.8350989684973515\n",
            "threshold: 35.42042042042042, accuracy: 0.8352383607471424\n",
            "threshold: 35.450450450450454, accuracy: 0.8352383607471424\n",
            "threshold: 35.48048048048048, accuracy: 0.8350989684973515\n",
            "threshold: 35.510510510510514, accuracy: 0.8352383607471424\n",
            "threshold: 35.54054054054054, accuracy: 0.8352383607471424\n",
            "threshold: 35.570570570570574, accuracy: 0.8356565374965151\n",
            "threshold: 35.6006006006006, accuracy: 0.835935321996097\n",
            "threshold: 35.630630630630634, accuracy: 0.836074714245888\n",
            "threshold: 35.66066066066066, accuracy: 0.8362141064956788\n",
            "threshold: 35.690690690690694, accuracy: 0.8364928909952607\n",
            "threshold: 35.72072072072072, accuracy: 0.8363534987454697\n",
            "threshold: 35.750750750750754, accuracy: 0.8364928909952607\n",
            "threshold: 35.78078078078078, accuracy: 0.8364928909952607\n",
            "threshold: 35.810810810810814, accuracy: 0.8366322832450516\n",
            "threshold: 35.84084084084084, accuracy: 0.8367716754948424\n",
            "threshold: 35.870870870870874, accuracy: 0.8367716754948424\n",
            "threshold: 35.9009009009009, accuracy: 0.8367716754948424\n",
            "threshold: 35.930930930930934, accuracy: 0.8367716754948424\n",
            "threshold: 35.96096096096096, accuracy: 0.8369110677446334\n",
            "threshold: 35.990990990990994, accuracy: 0.8369110677446334\n",
            "threshold: 36.02102102102102, accuracy: 0.8369110677446334\n",
            "threshold: 36.051051051051054, accuracy: 0.8370504599944243\n",
            "threshold: 36.08108108108108, accuracy: 0.8371898522442153\n",
            "threshold: 36.111111111111114, accuracy: 0.8371898522442153\n",
            "threshold: 36.14114114114114, accuracy: 0.8371898522442153\n",
            "threshold: 36.171171171171174, accuracy: 0.8373292444940061\n",
            "threshold: 36.2012012012012, accuracy: 0.837608028993588\n",
            "threshold: 36.231231231231234, accuracy: 0.8378868134931697\n",
            "threshold: 36.26126126126126, accuracy: 0.8381655979927516\n",
            "threshold: 36.291291291291294, accuracy: 0.8385837747421243\n",
            "threshold: 36.32132132132132, accuracy: 0.8388625592417062\n",
            "threshold: 36.351351351351354, accuracy: 0.8388625592417062\n",
            "threshold: 36.38138138138138, accuracy: 0.8388625592417062\n",
            "threshold: 36.411411411411414, accuracy: 0.839001951491497\n",
            "threshold: 36.44144144144144, accuracy: 0.839001951491497\n",
            "threshold: 36.471471471471475, accuracy: 0.8388625592417062\n",
            "threshold: 36.5015015015015, accuracy: 0.8385837747421243\n",
            "threshold: 36.531531531531535, accuracy: 0.8387231669919153\n",
            "threshold: 36.56156156156156, accuracy: 0.8388625592417062\n",
            "threshold: 36.591591591591595, accuracy: 0.8387231669919153\n",
            "threshold: 36.62162162162162, accuracy: 0.8384443824923334\n",
            "threshold: 36.651651651651655, accuracy: 0.8383049902425426\n",
            "threshold: 36.68168168168168, accuracy: 0.8384443824923334\n",
            "threshold: 36.711711711711715, accuracy: 0.8383049902425426\n",
            "threshold: 36.74174174174174, accuracy: 0.8383049902425426\n",
            "threshold: 36.771771771771775, accuracy: 0.8383049902425426\n",
            "threshold: 36.8018018018018, accuracy: 0.8383049902425426\n",
            "threshold: 36.831831831831835, accuracy: 0.8383049902425426\n",
            "threshold: 36.86186186186186, accuracy: 0.8385837747421243\n",
            "threshold: 36.891891891891895, accuracy: 0.8387231669919153\n",
            "threshold: 36.92192192192192, accuracy: 0.8384443824923334\n",
            "threshold: 36.951951951951955, accuracy: 0.8387231669919153\n",
            "threshold: 36.98198198198198, accuracy: 0.8387231669919153\n",
            "threshold: 37.012012012012015, accuracy: 0.8387231669919153\n",
            "threshold: 37.04204204204204, accuracy: 0.8388625592417062\n",
            "threshold: 37.072072072072075, accuracy: 0.8388625592417062\n",
            "threshold: 37.1021021021021, accuracy: 0.8387231669919153\n",
            "threshold: 37.132132132132135, accuracy: 0.839001951491497\n",
            "threshold: 37.16216216216216, accuracy: 0.839001951491497\n",
            "threshold: 37.192192192192195, accuracy: 0.839001951491497\n",
            "threshold: 37.22222222222222, accuracy: 0.839001951491497\n",
            "threshold: 37.252252252252255, accuracy: 0.8394201282408698\n",
            "threshold: 37.28228228228228, accuracy: 0.8395595204906607\n",
            "threshold: 37.312312312312315, accuracy: 0.8394201282408698\n",
            "threshold: 37.34234234234234, accuracy: 0.8394201282408698\n",
            "threshold: 37.372372372372375, accuracy: 0.8395595204906607\n",
            "threshold: 37.4024024024024, accuracy: 0.8401170894898243\n",
            "threshold: 37.432432432432435, accuracy: 0.8399776972400335\n",
            "threshold: 37.46246246246246, accuracy: 0.8402564817396153\n",
            "threshold: 37.492492492492495, accuracy: 0.8401170894898243\n",
            "threshold: 37.52252252252252, accuracy: 0.8401170894898243\n",
            "threshold: 37.552552552552555, accuracy: 0.8401170894898243\n",
            "threshold: 37.58258258258258, accuracy: 0.8401170894898243\n",
            "threshold: 37.612612612612615, accuracy: 0.8401170894898243\n",
            "threshold: 37.64264264264264, accuracy: 0.8399776972400335\n",
            "threshold: 37.672672672672675, accuracy: 0.8403958739894062\n",
            "threshold: 37.7027027027027, accuracy: 0.8402564817396153\n",
            "threshold: 37.732732732732735, accuracy: 0.8403958739894062\n",
            "threshold: 37.76276276276276, accuracy: 0.8403958739894062\n",
            "threshold: 37.792792792792795, accuracy: 0.840535266239197\n",
            "threshold: 37.82282282282282, accuracy: 0.840535266239197\n",
            "threshold: 37.852852852852855, accuracy: 0.8409534429885699\n",
            "threshold: 37.88288288288288, accuracy: 0.8409534429885699\n",
            "threshold: 37.912912912912915, accuracy: 0.8408140507387789\n",
            "threshold: 37.94294294294294, accuracy: 0.840674658488988\n",
            "threshold: 37.972972972972975, accuracy: 0.8408140507387789\n",
            "threshold: 38.003003003003, accuracy: 0.8410928352383608\n",
            "threshold: 38.033033033033036, accuracy: 0.8409534429885699\n",
            "threshold: 38.06306306306306, accuracy: 0.8410928352383608\n",
            "threshold: 38.093093093093096, accuracy: 0.8410928352383608\n",
            "threshold: 38.12312312312312, accuracy: 0.8410928352383608\n",
            "threshold: 38.153153153153156, accuracy: 0.8409534429885699\n",
            "threshold: 38.18318318318318, accuracy: 0.8409534429885699\n",
            "threshold: 38.213213213213216, accuracy: 0.8409534429885699\n",
            "threshold: 38.24324324324324, accuracy: 0.8409534429885699\n",
            "threshold: 38.273273273273276, accuracy: 0.8408140507387789\n",
            "threshold: 38.3033033033033, accuracy: 0.8408140507387789\n",
            "threshold: 38.333333333333336, accuracy: 0.8412322274881516\n",
            "threshold: 38.36336336336336, accuracy: 0.8410928352383608\n",
            "threshold: 38.393393393393396, accuracy: 0.8408140507387789\n",
            "threshold: 38.42342342342342, accuracy: 0.8409534429885699\n",
            "threshold: 38.453453453453456, accuracy: 0.8408140507387789\n",
            "threshold: 38.48348348348348, accuracy: 0.8412322274881516\n",
            "threshold: 38.513513513513516, accuracy: 0.8412322274881516\n",
            "threshold: 38.54354354354354, accuracy: 0.8412322274881516\n",
            "threshold: 38.573573573573576, accuracy: 0.8412322274881516\n",
            "threshold: 38.6036036036036, accuracy: 0.8410928352383608\n",
            "threshold: 38.633633633633636, accuracy: 0.8412322274881516\n",
            "threshold: 38.66366366366366, accuracy: 0.8412322274881516\n",
            "threshold: 38.693693693693696, accuracy: 0.8417897964873153\n",
            "threshold: 38.72372372372372, accuracy: 0.8417897964873153\n",
            "threshold: 38.753753753753756, accuracy: 0.8417897964873153\n",
            "threshold: 38.78378378378378, accuracy: 0.8416504042375244\n",
            "threshold: 38.813813813813816, accuracy: 0.8416504042375244\n",
            "threshold: 38.84384384384384, accuracy: 0.8415110119877335\n",
            "threshold: 38.873873873873876, accuracy: 0.8412322274881516\n",
            "threshold: 38.9039039039039, accuracy: 0.8415110119877335\n",
            "threshold: 38.933933933933936, accuracy: 0.8415110119877335\n",
            "threshold: 38.96396396396396, accuracy: 0.8415110119877335\n",
            "threshold: 38.993993993993996, accuracy: 0.8415110119877335\n",
            "threshold: 39.02402402402402, accuracy: 0.8415110119877335\n",
            "threshold: 39.054054054054056, accuracy: 0.8413716197379426\n",
            "threshold: 39.08408408408408, accuracy: 0.8413716197379426\n",
            "threshold: 39.114114114114116, accuracy: 0.8413716197379426\n",
            "threshold: 39.14414414414414, accuracy: 0.8415110119877335\n",
            "threshold: 39.174174174174176, accuracy: 0.8417897964873153\n",
            "threshold: 39.2042042042042, accuracy: 0.8415110119877335\n",
            "threshold: 39.234234234234236, accuracy: 0.8413716197379426\n",
            "threshold: 39.26426426426426, accuracy: 0.8415110119877335\n",
            "threshold: 39.294294294294296, accuracy: 0.8415110119877335\n",
            "threshold: 39.32432432432432, accuracy: 0.8415110119877335\n",
            "threshold: 39.354354354354356, accuracy: 0.8415110119877335\n",
            "threshold: 39.38438438438438, accuracy: 0.8413716197379426\n",
            "threshold: 39.414414414414416, accuracy: 0.8416504042375244\n",
            "threshold: 39.44444444444444, accuracy: 0.8417897964873153\n",
            "threshold: 39.474474474474476, accuracy: 0.8417897964873153\n",
            "threshold: 39.5045045045045, accuracy: 0.8417897964873153\n",
            "threshold: 39.53453453453454, accuracy: 0.8419291887371062\n",
            "threshold: 39.56456456456456, accuracy: 0.8420685809868971\n",
            "threshold: 39.5945945945946, accuracy: 0.8423473654864789\n",
            "threshold: 39.62462462462462, accuracy: 0.8423473654864789\n",
            "threshold: 39.65465465465466, accuracy: 0.8424867577362699\n",
            "threshold: 39.68468468468468, accuracy: 0.8424867577362699\n",
            "threshold: 39.71471471471472, accuracy: 0.8424867577362699\n",
            "threshold: 39.74474474474474, accuracy: 0.8424867577362699\n",
            "threshold: 39.77477477477478, accuracy: 0.8424867577362699\n",
            "threshold: 39.8048048048048, accuracy: 0.8427655422358517\n",
            "threshold: 39.83483483483484, accuracy: 0.8429049344856426\n",
            "threshold: 39.86486486486486, accuracy: 0.8426261499860608\n",
            "threshold: 39.8948948948949, accuracy: 0.8427655422358517\n",
            "threshold: 39.92492492492492, accuracy: 0.8429049344856426\n",
            "threshold: 39.95495495495496, accuracy: 0.8430443267354335\n",
            "threshold: 39.98498498498498, accuracy: 0.8429049344856426\n",
            "threshold: 40.01501501501502, accuracy: 0.8429049344856426\n",
            "threshold: 40.04504504504504, accuracy: 0.8431837189852244\n",
            "threshold: 40.07507507507508, accuracy: 0.8431837189852244\n",
            "threshold: 40.1051051051051, accuracy: 0.8431837189852244\n",
            "threshold: 40.13513513513514, accuracy: 0.8431837189852244\n",
            "threshold: 40.16516516516516, accuracy: 0.8430443267354335\n",
            "threshold: 40.1951951951952, accuracy: 0.8430443267354335\n",
            "threshold: 40.22522522522522, accuracy: 0.8430443267354335\n",
            "threshold: 40.25525525525526, accuracy: 0.8430443267354335\n",
            "threshold: 40.28528528528528, accuracy: 0.8429049344856426\n",
            "threshold: 40.31531531531532, accuracy: 0.8429049344856426\n",
            "threshold: 40.34534534534534, accuracy: 0.8431837189852244\n",
            "threshold: 40.37537537537538, accuracy: 0.8431837189852244\n",
            "threshold: 40.4054054054054, accuracy: 0.8433231112350154\n",
            "threshold: 40.43543543543544, accuracy: 0.8436018957345972\n",
            "threshold: 40.46546546546546, accuracy: 0.8436018957345972\n",
            "threshold: 40.4954954954955, accuracy: 0.8433231112350154\n",
            "threshold: 40.525525525525524, accuracy: 0.8433231112350154\n",
            "threshold: 40.55555555555556, accuracy: 0.8430443267354335\n",
            "threshold: 40.585585585585584, accuracy: 0.8430443267354335\n",
            "threshold: 40.61561561561562, accuracy: 0.8429049344856426\n",
            "threshold: 40.645645645645644, accuracy: 0.8429049344856426\n",
            "threshold: 40.67567567567568, accuracy: 0.8430443267354335\n",
            "threshold: 40.705705705705704, accuracy: 0.8430443267354335\n",
            "threshold: 40.73573573573574, accuracy: 0.8430443267354335\n",
            "threshold: 40.765765765765764, accuracy: 0.8431837189852244\n",
            "threshold: 40.7957957957958, accuracy: 0.8433231112350154\n",
            "threshold: 40.825825825825824, accuracy: 0.8437412879843881\n",
            "threshold: 40.85585585585586, accuracy: 0.8437412879843881\n",
            "threshold: 40.885885885885884, accuracy: 0.843880680234179\n",
            "threshold: 40.91591591591592, accuracy: 0.8437412879843881\n",
            "threshold: 40.945945945945944, accuracy: 0.8440200724839699\n",
            "threshold: 40.97597597597598, accuracy: 0.8440200724839699\n",
            "threshold: 41.006006006006004, accuracy: 0.8440200724839699\n",
            "threshold: 41.03603603603604, accuracy: 0.8441594647337608\n",
            "threshold: 41.066066066066064, accuracy: 0.8442988569835517\n",
            "threshold: 41.0960960960961, accuracy: 0.8441594647337608\n",
            "threshold: 41.126126126126124, accuracy: 0.843880680234179\n",
            "threshold: 41.15615615615616, accuracy: 0.8440200724839699\n",
            "threshold: 41.186186186186184, accuracy: 0.8440200724839699\n",
            "threshold: 41.21621621621622, accuracy: 0.8441594647337608\n",
            "threshold: 41.246246246246244, accuracy: 0.8442988569835517\n",
            "threshold: 41.27627627627628, accuracy: 0.8447170337329245\n",
            "threshold: 41.306306306306304, accuracy: 0.8449958182325062\n",
            "threshold: 41.33633633633634, accuracy: 0.8451352104822972\n",
            "threshold: 41.366366366366364, accuracy: 0.8452746027320881\n",
            "threshold: 41.3963963963964, accuracy: 0.8451352104822972\n",
            "threshold: 41.426426426426424, accuracy: 0.8451352104822972\n",
            "threshold: 41.45645645645646, accuracy: 0.8451352104822972\n",
            "threshold: 41.486486486486484, accuracy: 0.8456927794814608\n",
            "threshold: 41.51651651651652, accuracy: 0.8458321717312517\n",
            "threshold: 41.546546546546544, accuracy: 0.8458321717312517\n",
            "threshold: 41.57657657657658, accuracy: 0.8459715639810427\n",
            "threshold: 41.606606606606604, accuracy: 0.8459715639810427\n",
            "threshold: 41.63663663663664, accuracy: 0.8459715639810427\n",
            "threshold: 41.666666666666664, accuracy: 0.8461109562308335\n",
            "threshold: 41.6966966966967, accuracy: 0.8461109562308335\n",
            "threshold: 41.726726726726724, accuracy: 0.8459715639810427\n",
            "threshold: 41.75675675675676, accuracy: 0.8459715639810427\n",
            "threshold: 41.786786786786784, accuracy: 0.8459715639810427\n",
            "threshold: 41.81681681681682, accuracy: 0.8465291329802063\n",
            "threshold: 41.846846846846844, accuracy: 0.8466685252299972\n",
            "threshold: 41.87687687687688, accuracy: 0.8468079174797881\n",
            "threshold: 41.906906906906904, accuracy: 0.8468079174797881\n",
            "threshold: 41.93693693693694, accuracy: 0.846947309729579\n",
            "threshold: 41.966966966966964, accuracy: 0.84708670197937\n",
            "threshold: 41.996996996997, accuracy: 0.84708670197937\n",
            "threshold: 42.027027027027025, accuracy: 0.84708670197937\n",
            "threshold: 42.05705705705706, accuracy: 0.84708670197937\n",
            "threshold: 42.087087087087085, accuracy: 0.84708670197937\n",
            "threshold: 42.11711711711712, accuracy: 0.846947309729579\n",
            "threshold: 42.147147147147145, accuracy: 0.84708670197937\n",
            "threshold: 42.17717717717718, accuracy: 0.8473654864789518\n",
            "threshold: 42.207207207207205, accuracy: 0.8473654864789518\n",
            "threshold: 42.23723723723724, accuracy: 0.8473654864789518\n",
            "threshold: 42.267267267267265, accuracy: 0.8472260942291608\n",
            "threshold: 42.2972972972973, accuracy: 0.8473654864789518\n",
            "threshold: 42.327327327327325, accuracy: 0.8475048787287427\n",
            "threshold: 42.35735735735736, accuracy: 0.8475048787287427\n"
          ]
        }
      ]
    },
    {
      "cell_type": "code",
      "metadata": {
        "id": "RIt0Lf5Horbh"
      },
      "source": [
        "import csv\n",
        "with open('predict_best.csv', 'w', newline='') as csvf:\n",
        "    # 建立 CSV 檔寫入器\n",
        "    writer = csv.writer(csvf)\n",
        "    writer.writerow(['id','label'])\n",
        "    for i in range(int(y_test.shape[0])):\n",
        "      writer.writerow( [i + 1, int(y_test[i])] )"
      ],
      "execution_count": null,
      "outputs": []
    },
    {
      "cell_type": "markdown",
      "metadata": {
        "id": "w3aDCdTxXo-B"
      },
      "source": [
        "### Tip for math problem\n",
        "[p1](https://people.eecs.berkeley.edu/~jrs/189/exam/mids14.pdf)  \n",
        "[p2&3](https://people.eecs.berkeley.edu/~jordan/courses/260-spring10/other-readings/chapter13.pdf)  \n",
        "[p3](https://stats.stackexchange.com/questions/351549/maximum-likelihood-estimators-multivariate-gaussian)"
      ]
    }
  ]
}