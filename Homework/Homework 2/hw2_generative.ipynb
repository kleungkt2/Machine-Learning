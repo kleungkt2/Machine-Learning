{
  "nbformat": 4,
  "nbformat_minor": 0,
  "metadata": {
    "colab": {
      "name": "Copy of ML_HW2_generative.ipynb",
      "provenance": [],
      "collapsed_sections": []
    },
    "kernelspec": {
      "name": "python3",
      "display_name": "Python 3"
    },
    "accelerator": "TPU"
  },
  "cells": [
    {
      "cell_type": "markdown",
      "metadata": {
        "id": "AeZtEkZdNMGg"
      },
      "source": [
        "## ML HW2 手把手教學 \n"
      ]
    },
    {
      "cell_type": "code",
      "metadata": {
        "id": "lMOeb2gcNWdB"
      },
      "source": [
        "import numpy as np\n",
        "import pandas as pd"
      ],
      "execution_count": null,
      "outputs": []
    },
    {
      "cell_type": "markdown",
      "metadata": {
        "id": "4y2jsOxKQmbV"
      },
      "source": [
        "### Probabilistic generative model\n"
      ]
    },
    {
      "cell_type": "code",
      "metadata": {
        "id": "LIka2nwqQsvm"
      },
      "source": [
        "import numpy as np\n",
        "import math\n",
        "import pandas as pd\n",
        "\n",
        "dim = 106"
      ],
      "execution_count": null,
      "outputs": []
    },
    {
      "cell_type": "markdown",
      "metadata": {
        "id": "BTeKz7_4QzGl"
      },
      "source": [
        "Same as logictic regression"
      ]
    },
    {
      "cell_type": "code",
      "metadata": {
        "id": "KvORjiUCQ6yP"
      },
      "source": [
        "def load_data():\n",
        "    x_train = pd.read_csv('X_train')\n",
        "    x_test = pd.read_csv('X_test')\n",
        "\n",
        "    x_train = x_train.values\n",
        "    x_test = x_test.values\n",
        "\n",
        "    y_train = pd.read_csv('Y_train', header = None)\n",
        "    y_train = y_train.values\n",
        "    y_train = y_train.reshape(-1)\n",
        "\n",
        "    return x_train, y_train, x_test\n",
        "\n",
        "def sigmoid(z):\n",
        "    res = 1 / (1.0 + np.exp(-z))\n",
        "    return np.clip(res, 1e-6, 1-1e-6)"
      ],
      "execution_count": null,
      "outputs": []
    },
    {
      "cell_type": "markdown",
      "metadata": {
        "id": "BhRy2oxGRCdC"
      },
      "source": [
        "參考 [上課投影片](https://drive.google.com/file/d/1WKjqkJVPIxYh1REbzy6HeoGfZj-mj6NJ/view) P18 and P23\n",
        "\n"
      ]
    },
    {
      "cell_type": "code",
      "metadata": {
        "id": "SCoUqbnaRKn6"
      },
      "source": [
        "def train(x_train, y_train):\n",
        "    \n",
        "    cnt1 = 0\n",
        "    cnt2 = 0\n",
        "\n",
        "    mu1 = np.zeros(dim)\n",
        "    mu2 = np.zeros(dim)\n",
        "\n",
        "    for i, x in enumerate(x_train):\n",
        "      if y_train[i] == 1:\n",
        "        mu1 += x\n",
        "        cnt1 += 1\n",
        "      else:\n",
        "        mu2 += x\n",
        "        cnt2 += 1\n",
        "    mu1 /= cnt1\n",
        "    mu2 /= cnt2\n",
        "    \n",
        "\n",
        "    sigma1 = np.zeros((dim, dim))\n",
        "    sigma2 = np.zeros((dim, dim))\n",
        "    for i, x in enumerate(x_train):\n",
        "      if y_train[i] == 1:\n",
        "        sigma1 += np.dot(np.transpose([x - mu1]), np.array([x - mu1]))\n",
        "      else:\n",
        "        sigma2 += np.dot(np.transpose([x - mu2]), np.array([x - mu2]))\n",
        "    share_sigma = (sigma1 * cnt1 + sigma2 * cnt2) / (cnt1 + cnt2)\n",
        "\n",
        "    return mu1, mu2, share_sigma, cnt1, cnt2"
      ],
      "execution_count": null,
      "outputs": []
    },
    {
      "cell_type": "markdown",
      "metadata": {
        "id": "-PzNTdvwVHnI"
      },
      "source": [
        "參考 [上課投影片](https://drive.google.com/file/d/1WKjqkJVPIxYh1REbzy6HeoGfZj-mj6NJ/view) P33\n",
        "\n"
      ]
    },
    {
      "cell_type": "code",
      "metadata": {
        "id": "p9LozVuyVHvk"
      },
      "source": [
        "def predict(x_test, mu1, mu2, share_sigma, N1, N2):\n",
        "    sigma_inverse = np.linalg.inv(share_sigma)\n",
        "\n",
        "    w = np.dot( (mu1-mu2), sigma_inverse)\n",
        "    b = (-0.5) * np.dot(np.dot(mu1.T, sigma_inverse), mu1) + (0.5) * np.dot(np.dot(mu2.T, sigma_inverse), mu2) + np.log(float(N1)/N2)\n",
        "\n",
        "    z = np.dot(w, x_test.T) + b\n",
        "    pred = sigmoid(z)\n",
        "    return pred, w, b"
      ],
      "execution_count": null,
      "outputs": []
    },
    {
      "cell_type": "markdown",
      "metadata": {
        "id": "EZ5onx1WVWuj"
      },
      "source": [
        "Predict your results.\n",
        "\n"
      ]
    },
    {
      "cell_type": "code",
      "metadata": {
        "id": "OxVyr8KZVW5u",
        "colab": {
          "base_uri": "https://localhost:8080/"
        },
        "outputId": "a5dccad6-9348-45d7-d875-88ec89a215eb"
      },
      "source": [
        "\n",
        "x_train,y_train,x_test = load_data()\n",
        "\n",
        "mu1, mu2, shared_sigma, N1, N2 = train(x_train, y_train)\n",
        "\n",
        "y, w ,b = predict(x_train, mu1, mu2, shared_sigma, N1, N2)\n",
        "y = np.around(y)\n",
        "\n",
        "result = (y_train == y)\n",
        "\n",
        "print('Train acc = %f' % (float(result.sum()) / result.shape[0]))\n",
        "\n",
        "# TODO: predict x_test\n",
        "y_test = np.round(sigmoid(np.matmul(x_test, w) + b)).astype(np.int)\n"
      ],
      "execution_count": null,
      "outputs": [
        {
          "output_type": "stream",
          "name": "stdout",
          "text": [
            "Train acc = 0.759190\n"
          ]
        }
      ]
    },
    {
      "cell_type": "code",
      "metadata": {
        "id": "OVEQ1t9o4ahz"
      },
      "source": [
        "import csv\n",
        "with open('predict.csv', 'w', newline='') as csvf:\n",
        "    # 建立 CSV 檔寫入器\n",
        "    writer = csv.writer(csvf)\n",
        "    writer.writerow(['id','label'])\n",
        "    for i in range(int(y_test.shape[0])):\n",
        "      writer.writerow( [i + 1, int(y_test[i])] )"
      ],
      "execution_count": null,
      "outputs": []
    },
    {
      "cell_type": "markdown",
      "metadata": {
        "id": "w3aDCdTxXo-B"
      },
      "source": [
        "### Tip for math problem\n",
        "[p1](https://people.eecs.berkeley.edu/~jrs/189/exam/mids14.pdf)  \n",
        "[p2&3](https://people.eecs.berkeley.edu/~jordan/courses/260-spring10/other-readings/chapter13.pdf)  \n",
        "[p3](https://stats.stackexchange.com/questions/351549/maximum-likelihood-estimators-multivariate-gaussian)"
      ]
    }
  ]
}