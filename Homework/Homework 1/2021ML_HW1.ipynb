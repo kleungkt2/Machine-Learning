{
  "nbformat": 4,
  "nbformat_minor": 0,
  "metadata": {
    "colab": {
      "name": "(8.23456)2021ML_HW1.ipynb",
      "provenance": [],
      "collapsed_sections": []
    },
    "kernelspec": {
      "name": "python3",
      "display_name": "Python 3"
    },
    "accelerator": "TPU"
  },
  "cells": [
    {
      "cell_type": "markdown",
      "metadata": {
        "id": "mz0_QVkxCrX3"
      },
      "source": [
        "# **2021ML FALL HW1: PM2.5 Prediction (Regression)**"
      ]
    },
    {
      "cell_type": "markdown",
      "metadata": {
        "id": "ZeZnPAiwDRWG"
      },
      "source": [
        "Author: MLTAs\n",
        "\n",
        "Methods:\n",
        "* Training with all data\n",
        "* Training (mini-batch=64, optimizer=Adam, learning rate=0.001)\n",
        "\n",
        "Running this code on Google Colab probably passes simple baselines on Kaggle.\n",
        "\n",
        "Tovpass\n"
      ]
    },
    {
      "cell_type": "markdown",
      "metadata": {
        "id": "Jx3x1nDkG-Uy"
      },
      "source": [
        "## **Download Data**\n",
        "\n",
        "\n",
        "If the Google drive links are dead, you can download data from [kaggle](https://www.kaggle.com/c/ml2021spring-hw1/data), and upload data manually to the workspace."
      ]
    },
    {
      "cell_type": "code",
      "metadata": {
        "colab": {
          "base_uri": "https://localhost:8080/"
        },
        "id": "tMj55YDKG6ch",
        "outputId": "9c790bae-2efe-4526-9fc4-ba7b1de9bc72"
      },
      "source": [
        "tr_path = 'train.csv'  # path to training data\n",
        "tt_path = 'test.csv'   # path to testing data\n",
        "\n",
        "!gdown --id '1AtgWdt7mXNBrai0ktxeGx3ZFMPu1B1KM' --output train.csv\n",
        "!gdown --id '15MCDFuAW5Z4n2yXJg3VbyIAnP4Dz-Tn_' --output test.csv\n",
        "\n",
        "#如果連結壞掉可以改用下面這組或把資料直接載到自己的電腦裡電腦裡\n",
        "# !gdown --id '1p6NE6zTGo8sQyLegdr2NzPTNp4xMFwmt' --output train.csv\n",
        "# !gdown --id '1fFpPPXp54K9c7_93OE4Tdxm4A9pp8bf8' --output test.csv"
      ],
      "execution_count": null,
      "outputs": [
        {
          "output_type": "stream",
          "name": "stdout",
          "text": [
            "Downloading...\n",
            "From: https://drive.google.com/uc?id=1AtgWdt7mXNBrai0ktxeGx3ZFMPu1B1KM\n",
            "To: /content/train.csv\n",
            "100% 1.24M/1.24M [00:00<00:00, 78.3MB/s]\n",
            "Downloading...\n",
            "From: https://drive.google.com/uc?id=15MCDFuAW5Z4n2yXJg3VbyIAnP4Dz-Tn_\n",
            "To: /content/test.csv\n",
            "100% 555k/555k [00:00<00:00, 81.8MB/s]\n"
          ]
        }
      ]
    },
    {
      "cell_type": "markdown",
      "metadata": {
        "id": "wS_4-77xHk44"
      },
      "source": [
        "# **Import Some Packages**"
      ]
    },
    {
      "cell_type": "code",
      "metadata": {
        "id": "k-onQd4JNA5H"
      },
      "source": [
        "# For data preprocess\n",
        "import numpy as np\n",
        "import csv\n",
        "import math\n",
        "import pandas as pd"
      ],
      "execution_count": null,
      "outputs": []
    },
    {
      "cell_type": "markdown",
      "metadata": {
        "id": "0OVRMuTAc1_E"
      },
      "source": [
        "# **讀取training data**\n",
        "讀入training data並對之進行preprocess"
      ]
    },
    {
      "cell_type": "code",
      "metadata": {
        "id": "yHpuZmQwXpz8"
      },
      "source": [
        "def valid(x, y):\n",
        "\t# TODO: try to filter out extreme values ex:PM2.5 > 100\n",
        "  if y > 100:\n",
        "    return False\n",
        "  return True\n",
        "def parse2train(data, feats):\n",
        "  x = []\n",
        "  y = []\n",
        "\n",
        "  # 用前面9筆資料預測下一筆PM2.5 所以需要-9\n",
        "  total_length = data.shape[1] - 9\n",
        "  for i in range(total_length):\n",
        "    x_tmp = data[feats,i:i+9]\n",
        "    y_tmp = data[17,i+9] #第第18個feature是是PM2.5\n",
        "    # TODO: try to filter out extreme values\n",
        "    if valid(x_tmp, y_tmp):\n",
        "      x.append(x_tmp.reshape(-1,))\n",
        "      y.append(y_tmp)\n",
        "    # END TODO\n",
        "  # x 會是一個(n, 18, 9)的陣列， y 則是(n, 1) \n",
        "  x = np.array(x)\n",
        "  y = np.array(y)\n",
        "  return x,y\n"
      ],
      "execution_count": null,
      "outputs": []
    },
    {
      "cell_type": "markdown",
      "metadata": {
        "id": "WyEpvVVQdZ0c"
      },
      "source": [
        "#**This is our gradient descent algorithm. Adam was implemented.**"
      ]
    },
    {
      "cell_type": "code",
      "metadata": {
        "id": "XL_RVBoLuXvj"
      },
      "source": [
        "def minibatch(x, y):\n",
        "    # 打亂data順序\n",
        "    index = np.arange(x.shape[0])\n",
        "    np.random.shuffle(index)\n",
        "    x = x[index]\n",
        "    y = y[index]\n",
        "    \n",
        "    # 訓練參數以及初始化\n",
        "    batch_size = 128\n",
        "    lr = 0.001\n",
        "    lam = 0.001\n",
        "    beta_1 = np.full(x[0].shape, 0.9).reshape(-1, 1)\n",
        "    beta_2 = np.full(x[0].shape, 0.99).reshape(-1, 1)\n",
        "    w = np.full(x[0].shape, 0.1).reshape(-1, 1)\n",
        "    bias = 0.1\n",
        "    m_t = np.full(x[0].shape, 0).reshape(-1, 1)\n",
        "    v_t = np.full(x[0].shape, 0).reshape(-1, 1)\n",
        "    m_t_b = 0.0\n",
        "    v_t_b = 0.0\n",
        "    t = 0\n",
        "    epsilon = 1e-8\n",
        "    iter_time = 1000\n",
        "    for num in range(iter_time):\n",
        "        for b in range(int(x.shape[0]/batch_size)):\n",
        "            t+=1\n",
        "            x_batch = x[b*batch_size:(b+1)*batch_size]\n",
        "            y_batch = y[b*batch_size:(b+1)*batch_size].reshape(-1,1)\n",
        "            loss = y_batch - np.dot(x_batch,w) - bias\n",
        "            \n",
        "            # 計算gradient\n",
        "            g_t = np.dot(x_batch.transpose(),loss) * (-2) +  2 * lam * np.sum(w)\n",
        "            g_t_b = loss.sum(axis=0) * (-2)\n",
        "            m_t = beta_1*m_t + (1-beta_1)*g_t \n",
        "            v_t = beta_2*v_t + (1-beta_2)*np.multiply(g_t, g_t)\n",
        "            m_cap = m_t/(1-(beta_1**t))\n",
        "            v_cap = v_t/(1-(beta_2**t))\n",
        "            m_t_b = 0.9*m_t_b + (1-0.9)*g_t_b\n",
        "            v_t_b = 0.99*v_t_b + (1-0.99)*(g_t_b*g_t_b) \n",
        "            m_cap_b = m_t_b/(1-(0.9**t))\n",
        "            v_cap_b = v_t_b/(1-(0.99**t))\n",
        "            w_0 = np.copy(w)\n",
        "            \n",
        "            # 更新weight, bias\n",
        "            w -= ((lr*m_cap)/(np.sqrt(v_cap)+epsilon)).reshape(-1, 1)\n",
        "            bias -= (lr*m_cap_b)/(math.sqrt(v_cap_b)+epsilon)\n",
        "            \n",
        "\n",
        "    return w, bias"
      ],
      "execution_count": null,
      "outputs": []
    },
    {
      "cell_type": "code",
      "metadata": {
        "id": "HhfoPJUhcnH9"
      },
      "source": [
        "# The features you choose\n",
        "\n",
        "feats = [17]\n",
        "data = pd.read_csv('train.csv') #讀入讀入training file\n",
        "for col in list(data.columns[2:]):\n",
        "  data[col] = data[col].astype(str).map(lambda x: x.rstrip('x*#A'))\n",
        "data = data.values\n",
        "train_data = np.transpose(np.array(np.float64(data)))\n",
        "train_x, train_y = parse2train(train_data, feats)\n",
        "x_train = train_x[:(int)(train_x.shape[0]*0.8)]\n",
        "x_val = train_x[(int)(train_x.shape[0]*0.8+0.5):]\n",
        "y_train = train_y[:(int)(train_x.shape[0]*0.8)]\n",
        "y_val = train_y[(int)(train_y.shape[0]*0.8+0.5):]\n",
        "w, bias = minibatch(x_train, y_train)"
      ],
      "execution_count": null,
      "outputs": []
    },
    {
      "cell_type": "code",
      "metadata": {
        "colab": {
          "base_uri": "https://localhost:8080/"
        },
        "id": "9aMXye9Xa956",
        "outputId": "95871870-dcc2-4712-a4e9-3c9370578c5c"
      },
      "source": [
        "loss = 0\n",
        "for i in range(int(x_val.shape[0])):\n",
        "      yhead = (np.dot(np.reshape(w,-1),x_val[i]) + bias)[0]\n",
        "      loss += (yhead - y_val[i])**2\n",
        "      if i < 50:\n",
        "        #print([yhead, y_val[i]])\n",
        "        pass\n",
        "loss = np.sqrt(loss/int(x_val.shape[0]))\n",
        "print(loss)"
      ],
      "execution_count": null,
      "outputs": [
        {
          "output_type": "stream",
          "name": "stdout",
          "text": [
            "58.04867240067673\n"
          ]
        }
      ]
    },
    {
      "cell_type": "code",
      "metadata": {
        "colab": {
          "base_uri": "https://localhost:8080/",
          "height": 439
        },
        "id": "GIRt8DCrdvtu",
        "outputId": "ae17d2b4-739d-491c-c052-d18488eef7d7"
      },
      "source": [
        "train_df = pd.DataFrame(x_train)\n",
        "train_df"
      ],
      "execution_count": null,
      "outputs": [
        {
          "output_type": "execute_result",
          "data": {
            "text/html": [
              "<div>\n",
              "<style scoped>\n",
              "    .dataframe tbody tr th:only-of-type {\n",
              "        vertical-align: middle;\n",
              "    }\n",
              "\n",
              "    .dataframe tbody tr th {\n",
              "        vertical-align: top;\n",
              "    }\n",
              "\n",
              "    .dataframe thead th {\n",
              "        text-align: right;\n",
              "    }\n",
              "</style>\n",
              "<table border=\"1\" class=\"dataframe\">\n",
              "  <thead>\n",
              "    <tr style=\"text-align: right;\">\n",
              "      <th></th>\n",
              "      <th>0</th>\n",
              "      <th>1</th>\n",
              "      <th>2</th>\n",
              "      <th>3</th>\n",
              "      <th>4</th>\n",
              "      <th>5</th>\n",
              "      <th>6</th>\n",
              "      <th>7</th>\n",
              "      <th>8</th>\n",
              "      <th>9</th>\n",
              "      <th>10</th>\n",
              "      <th>11</th>\n",
              "      <th>12</th>\n",
              "      <th>13</th>\n",
              "      <th>14</th>\n",
              "      <th>15</th>\n",
              "      <th>16</th>\n",
              "      <th>17</th>\n",
              "    </tr>\n",
              "  </thead>\n",
              "  <tbody>\n",
              "    <tr>\n",
              "      <th>0</th>\n",
              "      <td>78.0</td>\n",
              "      <td>78.0</td>\n",
              "      <td>78.0</td>\n",
              "      <td>78.0</td>\n",
              "      <td>78.0</td>\n",
              "      <td>78.0</td>\n",
              "      <td>78.0</td>\n",
              "      <td>80.0</td>\n",
              "      <td>76.0</td>\n",
              "      <td>2.10</td>\n",
              "      <td>2.10</td>\n",
              "      <td>2.10</td>\n",
              "      <td>2.10</td>\n",
              "      <td>2.10</td>\n",
              "      <td>2.10</td>\n",
              "      <td>2.10</td>\n",
              "      <td>2.10</td>\n",
              "      <td>2.10</td>\n",
              "    </tr>\n",
              "    <tr>\n",
              "      <th>1</th>\n",
              "      <td>78.0</td>\n",
              "      <td>78.0</td>\n",
              "      <td>78.0</td>\n",
              "      <td>78.0</td>\n",
              "      <td>78.0</td>\n",
              "      <td>78.0</td>\n",
              "      <td>80.0</td>\n",
              "      <td>76.0</td>\n",
              "      <td>70.0</td>\n",
              "      <td>2.10</td>\n",
              "      <td>2.10</td>\n",
              "      <td>2.10</td>\n",
              "      <td>2.10</td>\n",
              "      <td>2.10</td>\n",
              "      <td>2.10</td>\n",
              "      <td>2.10</td>\n",
              "      <td>2.10</td>\n",
              "      <td>2.10</td>\n",
              "    </tr>\n",
              "    <tr>\n",
              "      <th>2</th>\n",
              "      <td>78.0</td>\n",
              "      <td>78.0</td>\n",
              "      <td>78.0</td>\n",
              "      <td>78.0</td>\n",
              "      <td>78.0</td>\n",
              "      <td>80.0</td>\n",
              "      <td>76.0</td>\n",
              "      <td>70.0</td>\n",
              "      <td>65.0</td>\n",
              "      <td>2.10</td>\n",
              "      <td>2.10</td>\n",
              "      <td>2.10</td>\n",
              "      <td>2.10</td>\n",
              "      <td>2.10</td>\n",
              "      <td>2.10</td>\n",
              "      <td>2.10</td>\n",
              "      <td>2.10</td>\n",
              "      <td>2.10</td>\n",
              "    </tr>\n",
              "    <tr>\n",
              "      <th>3</th>\n",
              "      <td>78.0</td>\n",
              "      <td>78.0</td>\n",
              "      <td>78.0</td>\n",
              "      <td>78.0</td>\n",
              "      <td>80.0</td>\n",
              "      <td>76.0</td>\n",
              "      <td>70.0</td>\n",
              "      <td>65.0</td>\n",
              "      <td>62.0</td>\n",
              "      <td>2.10</td>\n",
              "      <td>2.10</td>\n",
              "      <td>2.10</td>\n",
              "      <td>2.10</td>\n",
              "      <td>2.10</td>\n",
              "      <td>2.10</td>\n",
              "      <td>2.10</td>\n",
              "      <td>2.10</td>\n",
              "      <td>2.10</td>\n",
              "    </tr>\n",
              "    <tr>\n",
              "      <th>4</th>\n",
              "      <td>78.0</td>\n",
              "      <td>78.0</td>\n",
              "      <td>78.0</td>\n",
              "      <td>80.0</td>\n",
              "      <td>76.0</td>\n",
              "      <td>70.0</td>\n",
              "      <td>65.0</td>\n",
              "      <td>62.0</td>\n",
              "      <td>59.0</td>\n",
              "      <td>2.10</td>\n",
              "      <td>2.10</td>\n",
              "      <td>2.10</td>\n",
              "      <td>2.10</td>\n",
              "      <td>2.10</td>\n",
              "      <td>2.10</td>\n",
              "      <td>2.10</td>\n",
              "      <td>2.10</td>\n",
              "      <td>2.00</td>\n",
              "    </tr>\n",
              "    <tr>\n",
              "      <th>...</th>\n",
              "      <td>...</td>\n",
              "      <td>...</td>\n",
              "      <td>...</td>\n",
              "      <td>...</td>\n",
              "      <td>...</td>\n",
              "      <td>...</td>\n",
              "      <td>...</td>\n",
              "      <td>...</td>\n",
              "      <td>...</td>\n",
              "      <td>...</td>\n",
              "      <td>...</td>\n",
              "      <td>...</td>\n",
              "      <td>...</td>\n",
              "      <td>...</td>\n",
              "      <td>...</td>\n",
              "      <td>...</td>\n",
              "      <td>...</td>\n",
              "      <td>...</td>\n",
              "    </tr>\n",
              "    <tr>\n",
              "      <th>13925</th>\n",
              "      <td>94.0</td>\n",
              "      <td>94.0</td>\n",
              "      <td>93.0</td>\n",
              "      <td>93.0</td>\n",
              "      <td>92.0</td>\n",
              "      <td>93.0</td>\n",
              "      <td>94.0</td>\n",
              "      <td>94.0</td>\n",
              "      <td>94.0</td>\n",
              "      <td>1.94</td>\n",
              "      <td>1.92</td>\n",
              "      <td>1.90</td>\n",
              "      <td>2.04</td>\n",
              "      <td>2.05</td>\n",
              "      <td>2.07</td>\n",
              "      <td>2.00</td>\n",
              "      <td>1.93</td>\n",
              "      <td>1.93</td>\n",
              "    </tr>\n",
              "    <tr>\n",
              "      <th>13926</th>\n",
              "      <td>94.0</td>\n",
              "      <td>93.0</td>\n",
              "      <td>93.0</td>\n",
              "      <td>92.0</td>\n",
              "      <td>93.0</td>\n",
              "      <td>94.0</td>\n",
              "      <td>94.0</td>\n",
              "      <td>94.0</td>\n",
              "      <td>94.0</td>\n",
              "      <td>1.92</td>\n",
              "      <td>1.90</td>\n",
              "      <td>2.04</td>\n",
              "      <td>2.05</td>\n",
              "      <td>2.07</td>\n",
              "      <td>2.00</td>\n",
              "      <td>1.93</td>\n",
              "      <td>1.93</td>\n",
              "      <td>1.91</td>\n",
              "    </tr>\n",
              "    <tr>\n",
              "      <th>13927</th>\n",
              "      <td>93.0</td>\n",
              "      <td>93.0</td>\n",
              "      <td>92.0</td>\n",
              "      <td>93.0</td>\n",
              "      <td>94.0</td>\n",
              "      <td>94.0</td>\n",
              "      <td>94.0</td>\n",
              "      <td>94.0</td>\n",
              "      <td>93.0</td>\n",
              "      <td>1.90</td>\n",
              "      <td>2.04</td>\n",
              "      <td>2.05</td>\n",
              "      <td>2.07</td>\n",
              "      <td>2.00</td>\n",
              "      <td>1.93</td>\n",
              "      <td>1.93</td>\n",
              "      <td>1.91</td>\n",
              "      <td>1.87</td>\n",
              "    </tr>\n",
              "    <tr>\n",
              "      <th>13928</th>\n",
              "      <td>93.0</td>\n",
              "      <td>92.0</td>\n",
              "      <td>93.0</td>\n",
              "      <td>94.0</td>\n",
              "      <td>94.0</td>\n",
              "      <td>94.0</td>\n",
              "      <td>94.0</td>\n",
              "      <td>93.0</td>\n",
              "      <td>91.0</td>\n",
              "      <td>2.04</td>\n",
              "      <td>2.05</td>\n",
              "      <td>2.07</td>\n",
              "      <td>2.00</td>\n",
              "      <td>1.93</td>\n",
              "      <td>1.93</td>\n",
              "      <td>1.91</td>\n",
              "      <td>1.87</td>\n",
              "      <td>1.88</td>\n",
              "    </tr>\n",
              "    <tr>\n",
              "      <th>13929</th>\n",
              "      <td>92.0</td>\n",
              "      <td>93.0</td>\n",
              "      <td>94.0</td>\n",
              "      <td>94.0</td>\n",
              "      <td>94.0</td>\n",
              "      <td>94.0</td>\n",
              "      <td>93.0</td>\n",
              "      <td>91.0</td>\n",
              "      <td>87.0</td>\n",
              "      <td>2.05</td>\n",
              "      <td>2.07</td>\n",
              "      <td>2.00</td>\n",
              "      <td>1.93</td>\n",
              "      <td>1.93</td>\n",
              "      <td>1.91</td>\n",
              "      <td>1.87</td>\n",
              "      <td>1.88</td>\n",
              "      <td>1.90</td>\n",
              "    </tr>\n",
              "  </tbody>\n",
              "</table>\n",
              "<p>13930 rows × 18 columns</p>\n",
              "</div>"
            ],
            "text/plain": [
              "         0     1     2     3     4     5   ...    12    13    14    15    16    17\n",
              "0      78.0  78.0  78.0  78.0  78.0  78.0  ...  2.10  2.10  2.10  2.10  2.10  2.10\n",
              "1      78.0  78.0  78.0  78.0  78.0  78.0  ...  2.10  2.10  2.10  2.10  2.10  2.10\n",
              "2      78.0  78.0  78.0  78.0  78.0  80.0  ...  2.10  2.10  2.10  2.10  2.10  2.10\n",
              "3      78.0  78.0  78.0  78.0  80.0  76.0  ...  2.10  2.10  2.10  2.10  2.10  2.10\n",
              "4      78.0  78.0  78.0  80.0  76.0  70.0  ...  2.10  2.10  2.10  2.10  2.10  2.00\n",
              "...     ...   ...   ...   ...   ...   ...  ...   ...   ...   ...   ...   ...   ...\n",
              "13925  94.0  94.0  93.0  93.0  92.0  93.0  ...  2.04  2.05  2.07  2.00  1.93  1.93\n",
              "13926  94.0  93.0  93.0  92.0  93.0  94.0  ...  2.05  2.07  2.00  1.93  1.93  1.91\n",
              "13927  93.0  93.0  92.0  93.0  94.0  94.0  ...  2.07  2.00  1.93  1.93  1.91  1.87\n",
              "13928  93.0  92.0  93.0  94.0  94.0  94.0  ...  2.00  1.93  1.93  1.91  1.87  1.88\n",
              "13929  92.0  93.0  94.0  94.0  94.0  94.0  ...  1.93  1.93  1.91  1.87  1.88  1.90\n",
              "\n",
              "[13930 rows x 18 columns]"
            ]
          },
          "metadata": {},
          "execution_count": 17
        }
      ]
    },
    {
      "cell_type": "markdown",
      "metadata": {
        "id": "019GwPMrbmrB"
      },
      "source": [
        "# **讀入testing data**\n",
        "請注意testing的時候資料之間是沒有重疊的，如果要改寫這塊的話請務必注意"
      ]
    },
    {
      "cell_type": "code",
      "metadata": {
        "id": "5FjQNzOb6BeQ"
      },
      "source": [
        "def parse2test(data, feats):\n",
        "  x = []\n",
        "  y = []\n",
        "\n",
        "  # 用前面9筆資料預測下一筆PM2.5 所以需要-9\n",
        "  total_length = data.shape[1] - 9\n",
        "  for i in range(857):\n",
        "    x_tmp = data[feats,9 * i: 9 * i + 9]\n",
        "    x.append(x_tmp.reshape(-1,))\n",
        "  # x 會是一個(n, 18, 9)的陣列， y 則是(n, 1) \n",
        "  x = np.array(x)\n",
        "  return x\n"
      ],
      "execution_count": null,
      "outputs": []
    },
    {
      "cell_type": "code",
      "metadata": {
        "id": "jwB9Ee5c5KX7"
      },
      "source": [
        "data = pd.read_csv('test.csv')\n",
        "data = data.values\n",
        "test_data = np.transpose(np.array(np.float64(data)))\n",
        "test_x = parse2test(test_data, feats)"
      ],
      "execution_count": null,
      "outputs": []
    },
    {
      "cell_type": "markdown",
      "metadata": {
        "id": "fWrfEwaEdO6J"
      },
      "source": [
        "# **預測testing set並寫成並寫成csv檔檔**"
      ]
    },
    {
      "cell_type": "code",
      "metadata": {
        "id": "TqEQ1fZ9-WMO"
      },
      "source": [
        " with open('my_sol.csv', 'w', newline='') as csvf:\n",
        "    # 建立 CSV 檔寫入器\n",
        "    writer = csv.writer(csvf)\n",
        "    writer.writerow(['Id','Predicted'])\n",
        "    for i in range(int(test_x.shape[0])):\n",
        "      writer.writerow([i + 1,(np.dot(np.reshape(w,-1),test_x[i]) + bias)[0]])"
      ],
      "execution_count": null,
      "outputs": []
    },
    {
      "cell_type": "code",
      "metadata": {
        "id": "NacfzKG1lhs4"
      },
      "source": [
        ""
      ],
      "execution_count": null,
      "outputs": []
    }
  ]
}